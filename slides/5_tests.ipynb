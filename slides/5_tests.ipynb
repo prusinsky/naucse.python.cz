{
 "cells": [
  {
   "cell_type": "markdown",
   "metadata": {
    "slideshow": {
     "slide_type": "slide"
    }
   },
   "source": [
    "## MODULY\n",
    "## CYKLICKÉ IMPORTY\n",
    "## VÝJIMKY\n",
    "## TESTOVÁNÍ\n",
    "## CODE STYLE\n",
    "## DEBUGOVÁNÍ"
   ]
  },
  {
   "cell_type": "markdown",
   "metadata": {
    "slideshow": {
     "slide_type": "slide"
    }
   },
   "source": [
    "## MODULY"
   ]
  },
  {
   "cell_type": "markdown",
   "metadata": {
    "slideshow": {
     "slide_type": "fragment"
    }
   },
   "source": [
    "Modul je v Pythonu něco, z čeho můžeme importovat"
   ]
  },
  {
   "cell_type": "code",
   "execution_count": 1,
   "metadata": {
    "slideshow": {
     "slide_type": "subslide"
    }
   },
   "outputs": [
    {
     "name": "stdout",
     "output_type": "stream",
     "text": [
      "1.4142135623730951\n"
     ]
    }
   ],
   "source": [
    "from math import sqrt\n",
    "\n",
    "print(sqrt(2))"
   ]
  },
  {
   "cell_type": "code",
   "execution_count": 2,
   "metadata": {
    "slideshow": {
     "slide_type": "subslide"
    }
   },
   "outputs": [
    {
     "name": "stdout",
     "output_type": "stream",
     "text": [
      "-1.0\n"
     ]
    }
   ],
   "source": [
    "import math\n",
    "\n",
    "print(math.cos(math.pi))"
   ]
  },
  {
   "cell_type": "code",
   "execution_count": 3,
   "metadata": {
    "slideshow": {
     "slide_type": "fragment"
    }
   },
   "outputs": [
    {
     "name": "stdout",
     "output_type": "stream",
     "text": [
      "-1.0\n"
     ]
    }
   ],
   "source": [
    "from math import cos, pi\n",
    "\n",
    "print(cos(pi))"
   ]
  },
  {
   "cell_type": "markdown",
   "metadata": {
    "slideshow": {
     "slide_type": "subslide"
    }
   },
   "source": [
    "## VLASTNÍ MODULY"
   ]
  },
  {
   "cell_type": "markdown",
   "metadata": {
    "slideshow": {
     "slide_type": "subslide"
    }
   },
   "source": [
    "### Úkol:\n",
    "\n",
    "Vytvoř soubor `louka.py` a do něj napiš:\n",
    "```python\n",
    "barva_travy = 'zelená'\n",
    "pocet_kotatek = 28\n",
    "\n",
    "def popis_stav():\n",
    "    return 'Tráva je {barva}. Prohání se po ní {pocet} koťátek'.format(\n",
    "        barva=barva_travy, pocet=pocet_kotatek)\n",
    "```\n",
    "A pak v dalším souboru, třeba `vypis.py`, napiš:\n",
    "```python\n",
    "import louka\n",
    "\n",
    "print(louka.popis_stav())\n",
    "```\n",
    "a pak spusť:\n",
    "`python vypis.py`"
   ]
  },
  {
   "cell_type": "markdown",
   "metadata": {
    "slideshow": {
     "slide_type": "subslide"
    }
   },
   "source": [
    "### Vedlejší efekty"
   ]
  },
  {
   "cell_type": "markdown",
   "metadata": {
    "slideshow": {
     "slide_type": "subslide"
    }
   },
   "source": [
    "### import louka"
   ]
  },
  {
   "cell_type": "markdown",
   "metadata": {
    "slideshow": {
     "slide_type": "fragment"
    }
   },
   "source": [
    "Python najde příslušný soubor (louka.py) a provede v něm všechny příkazy, odshora dolů, jako v normálním Pythonním programu. \n",
    "\n",
    "Všechny globální proměnné (včetně nadefinovaných funkcí) pak dá k dispozici kódu, který „louku“ importoval.\n",
    "\n",
    "Když pak stejný modul importuješ podruhé, už se neprovádí všechno znovu – stejná sada proměnných se použije znovu."
   ]
  },
  {
   "cell_type": "markdown",
   "metadata": {
    "slideshow": {
     "slide_type": "fragment"
    }
   },
   "source": [
    "Zkus si to – na konci louka.py dopiš:\n",
    "```python\n",
    "print('Louka je zelená!')\n",
    "```\n",
    "Spust `python` a napiš `import louka`. \n",
    "\n",
    "A ještě jednou `import louka`."
   ]
  },
  {
   "cell_type": "markdown",
   "metadata": {
    "slideshow": {
     "slide_type": "slide"
    }
   },
   "source": [
    "## CYKLICKÉ IMPORTY"
   ]
  },
  {
   "cell_type": "markdown",
   "metadata": {
    "slideshow": {
     "slide_type": "fragment"
    }
   },
   "source": [
    "![function](img/imports1.png)"
   ]
  },
  {
   "cell_type": "markdown",
   "metadata": {
    "slideshow": {
     "slide_type": "subslide"
    }
   },
   "source": [
    "Jenže funkce tah_pocitace většinou potřebuje volat funkci tah. \n",
    "\n",
    "Co s tím? Můžeš importovat ai z piskvorky a zároveň piskvorky z ai?"
   ]
  },
  {
   "cell_type": "markdown",
   "metadata": {
    "slideshow": {
     "slide_type": "fragment"
    }
   },
   "source": [
    "![function](img/imports2.png)"
   ]
  },
  {
   "cell_type": "markdown",
   "metadata": {
    "slideshow": {
     "slide_type": "fragment"
    }
   },
   "source": [
    "Python má importovat soubor piskvorky.py, začne ho zpracovávat řádek po řádku, když tu (docela brzo) narazí na příkaz import ai. \n",
    "\n",
    "Otevře tedy soubor ai.py a začne ho zpracovávat řádek po řádku. Brzy narazí na příkaz import piskvorky..."
   ]
  },
  {
   "cell_type": "markdown",
   "metadata": {
    "slideshow": {
     "slide_type": "subslide"
    }
   },
   "source": [
    "### Organizace modulů podle závislostí"
   ]
  },
  {
   "cell_type": "markdown",
   "metadata": {
    "slideshow": {
     "slide_type": "fragment"
    }
   },
   "source": [
    "![function](img/imports3.png)"
   ]
  },
  {
   "cell_type": "markdown",
   "metadata": {
    "slideshow": {
     "slide_type": "subslide"
    }
   },
   "source": [
    "### Pomocný modul"
   ]
  },
  {
   "cell_type": "markdown",
   "metadata": {
    "scrolled": false,
    "slideshow": {
     "slide_type": "fragment"
    }
   },
   "source": [
    "![function](img/imports4.png)"
   ]
  },
  {
   "cell_type": "markdown",
   "metadata": {
    "slideshow": {
     "slide_type": "slide"
    }
   },
   "source": [
    "## VÝJIMKY"
   ]
  },
  {
   "cell_type": "code",
   "execution_count": 7,
   "metadata": {
    "slideshow": {
     "slide_type": "subslide"
    }
   },
   "outputs": [
    {
     "ename": "ZeroDivisionError",
     "evalue": "division by zero",
     "output_type": "error",
     "traceback": [
      "\u001B[0;31m---------------------------------------------------------------------------\u001B[0m",
      "\u001B[0;31mZeroDivisionError\u001B[0m                         Traceback (most recent call last)",
      "\u001B[0;32m<ipython-input-7-da926e6e730d>\u001B[0m in \u001B[0;36m<module>\u001B[0;34m\u001B[0m\n\u001B[1;32m      5\u001B[0m     \u001B[0;32mreturn\u001B[0m \u001B[0;36m1\u001B[0m \u001B[0;34m/\u001B[0m \u001B[0mdelitel\u001B[0m\u001B[0;34m\u001B[0m\u001B[0;34m\u001B[0m\u001B[0m\n\u001B[1;32m      6\u001B[0m \u001B[0;34m\u001B[0m\u001B[0m\n\u001B[0;32m----> 7\u001B[0;31m \u001B[0mprint\u001B[0m\u001B[0;34m(\u001B[0m\u001B[0mvnejsi_funkce\u001B[0m\u001B[0;34m(\u001B[0m\u001B[0;34m)\u001B[0m\u001B[0;34m)\u001B[0m\u001B[0;34m\u001B[0m\u001B[0;34m\u001B[0m\u001B[0m\n\u001B[0m",
      "\u001B[0;32m<ipython-input-7-da926e6e730d>\u001B[0m in \u001B[0;36mvnejsi_funkce\u001B[0;34m()\u001B[0m\n\u001B[1;32m      1\u001B[0m \u001B[0;32mdef\u001B[0m \u001B[0mvnejsi_funkce\u001B[0m\u001B[0;34m(\u001B[0m\u001B[0;34m)\u001B[0m\u001B[0;34m:\u001B[0m\u001B[0;34m\u001B[0m\u001B[0;34m\u001B[0m\u001B[0m\n\u001B[0;32m----> 2\u001B[0;31m     \u001B[0;32mreturn\u001B[0m \u001B[0mvnitrni_funkce\u001B[0m\u001B[0;34m(\u001B[0m\u001B[0;36m0\u001B[0m\u001B[0;34m)\u001B[0m\u001B[0;34m\u001B[0m\u001B[0;34m\u001B[0m\u001B[0m\n\u001B[0m\u001B[1;32m      3\u001B[0m \u001B[0;34m\u001B[0m\u001B[0m\n\u001B[1;32m      4\u001B[0m \u001B[0;32mdef\u001B[0m \u001B[0mvnitrni_funkce\u001B[0m\u001B[0;34m(\u001B[0m\u001B[0mdelitel\u001B[0m\u001B[0;34m)\u001B[0m\u001B[0;34m:\u001B[0m\u001B[0;34m\u001B[0m\u001B[0;34m\u001B[0m\u001B[0m\n\u001B[1;32m      5\u001B[0m     \u001B[0;32mreturn\u001B[0m \u001B[0;36m1\u001B[0m \u001B[0;34m/\u001B[0m \u001B[0mdelitel\u001B[0m\u001B[0;34m\u001B[0m\u001B[0;34m\u001B[0m\u001B[0m\n",
      "\u001B[0;32m<ipython-input-7-da926e6e730d>\u001B[0m in \u001B[0;36mvnitrni_funkce\u001B[0;34m(delitel)\u001B[0m\n\u001B[1;32m      3\u001B[0m \u001B[0;34m\u001B[0m\u001B[0m\n\u001B[1;32m      4\u001B[0m \u001B[0;32mdef\u001B[0m \u001B[0mvnitrni_funkce\u001B[0m\u001B[0;34m(\u001B[0m\u001B[0mdelitel\u001B[0m\u001B[0;34m)\u001B[0m\u001B[0;34m:\u001B[0m\u001B[0;34m\u001B[0m\u001B[0;34m\u001B[0m\u001B[0m\n\u001B[0;32m----> 5\u001B[0;31m     \u001B[0;32mreturn\u001B[0m \u001B[0;36m1\u001B[0m \u001B[0;34m/\u001B[0m \u001B[0mdelitel\u001B[0m\u001B[0;34m\u001B[0m\u001B[0;34m\u001B[0m\u001B[0m\n\u001B[0m\u001B[1;32m      6\u001B[0m \u001B[0;34m\u001B[0m\u001B[0m\n\u001B[1;32m      7\u001B[0m \u001B[0mprint\u001B[0m\u001B[0;34m(\u001B[0m\u001B[0mvnejsi_funkce\u001B[0m\u001B[0;34m(\u001B[0m\u001B[0;34m)\u001B[0m\u001B[0;34m)\u001B[0m\u001B[0;34m\u001B[0m\u001B[0;34m\u001B[0m\u001B[0m\n",
      "\u001B[0;31mZeroDivisionError\u001B[0m: division by zero"
     ]
    }
   ],
   "source": [
    "def vnejsi_funkce():\n",
    "    return vnitrni_funkce(0)\n",
    "\n",
    "def vnitrni_funkce(delitel):\n",
    "    return 1 / delitel\n",
    "\n",
    "print(vnejsi_funkce())"
   ]
  },
  {
   "cell_type": "markdown",
   "metadata": {
    "slideshow": {
     "slide_type": "subslide"
    }
   },
   "source": [
    "### Vyvolání chyby"
   ]
  },
  {
   "cell_type": "code",
   "execution_count": 10,
   "metadata": {
    "slideshow": {
     "slide_type": "subslide"
    }
   },
   "outputs": [
    {
     "name": "stdout",
     "output_type": "stream",
     "text": [
      "OK!\n"
     ]
    },
    {
     "ename": "ValueError",
     "evalue": "Čislo 25 není v poli!",
     "output_type": "error",
     "traceback": [
      "\u001B[0;31m---------------------------------------------------------------------------\u001B[0m",
      "\u001B[0;31mValueError\u001B[0m                                Traceback (most recent call last)",
      "\u001B[0;32m<ipython-input-10-7b6133d7ea1d>\u001B[0m in \u001B[0;36m<module>\u001B[0;34m\u001B[0m\n\u001B[1;32m      8\u001B[0m \u001B[0;34m\u001B[0m\u001B[0m\n\u001B[1;32m      9\u001B[0m \u001B[0mover_cislo\u001B[0m\u001B[0;34m(\u001B[0m\u001B[0;36m10\u001B[0m\u001B[0;34m)\u001B[0m\u001B[0;34m\u001B[0m\u001B[0;34m\u001B[0m\u001B[0m\n\u001B[0;32m---> 10\u001B[0;31m \u001B[0mover_cislo\u001B[0m\u001B[0;34m(\u001B[0m\u001B[0;36m25\u001B[0m\u001B[0;34m)\u001B[0m\u001B[0;34m\u001B[0m\u001B[0;34m\u001B[0m\u001B[0m\n\u001B[0m",
      "\u001B[0;32m<ipython-input-10-7b6133d7ea1d>\u001B[0m in \u001B[0;36mover_cislo\u001B[0;34m(cislo)\u001B[0m\n\u001B[1;32m      5\u001B[0m         \u001B[0mprint\u001B[0m\u001B[0;34m(\u001B[0m\u001B[0;34m'OK!'\u001B[0m\u001B[0;34m)\u001B[0m\u001B[0;34m\u001B[0m\u001B[0;34m\u001B[0m\u001B[0m\n\u001B[1;32m      6\u001B[0m     \u001B[0;32melse\u001B[0m\u001B[0;34m:\u001B[0m\u001B[0;34m\u001B[0m\u001B[0;34m\u001B[0m\u001B[0m\n\u001B[0;32m----> 7\u001B[0;31m         \u001B[0;32mraise\u001B[0m \u001B[0mValueError\u001B[0m\u001B[0;34m(\u001B[0m\u001B[0;34m'Čislo {n} není v poli!'\u001B[0m\u001B[0;34m.\u001B[0m\u001B[0mformat\u001B[0m\u001B[0;34m(\u001B[0m\u001B[0mn\u001B[0m\u001B[0;34m=\u001B[0m\u001B[0mcislo\u001B[0m\u001B[0;34m)\u001B[0m\u001B[0;34m)\u001B[0m\u001B[0;34m\u001B[0m\u001B[0;34m\u001B[0m\u001B[0m\n\u001B[0m\u001B[1;32m      8\u001B[0m \u001B[0;34m\u001B[0m\u001B[0m\n\u001B[1;32m      9\u001B[0m \u001B[0mover_cislo\u001B[0m\u001B[0;34m(\u001B[0m\u001B[0;36m10\u001B[0m\u001B[0;34m)\u001B[0m\u001B[0;34m\u001B[0m\u001B[0;34m\u001B[0m\u001B[0m\n",
      "\u001B[0;31mValueError\u001B[0m: Čislo 25 není v poli!"
     ]
    }
   ],
   "source": [
    "VELIKOST_POLE = 20\n",
    "\n",
    "def over_cislo(cislo):\n",
    "    if 0 <= cislo < VELIKOST_POLE:\n",
    "        print('OK!')\n",
    "    else:\n",
    "        raise ValueError('Čislo {n} není v poli!'.format(n=cislo))\n",
    "\n",
    "over_cislo(10)\n",
    "over_cislo(25)"
   ]
  },
  {
   "cell_type": "markdown",
   "metadata": {
    "slideshow": {
     "slide_type": "subslide"
    }
   },
   "source": [
    "![function](img/exceptions.png)"
   ]
  },
  {
   "cell_type": "markdown",
   "metadata": {
    "slideshow": {
     "slide_type": "subslide"
    }
   },
   "source": [
    "### Ošetření chyby"
   ]
  },
  {
   "cell_type": "code",
   "execution_count": 13,
   "metadata": {
    "slideshow": {
     "slide_type": "fragment"
    }
   },
   "outputs": [
    {
     "name": "stdout",
     "output_type": "stream",
     "text": [
      "Zadej číslo: abc\n",
      "To nebylo číslo! Pokračuji s nulou.\n"
     ]
    },
    {
     "data": {
      "text/plain": [
       "0"
      ]
     },
     "execution_count": 13,
     "metadata": {},
     "output_type": "execute_result"
    }
   ],
   "source": [
    "def nacti_cislo():\n",
    "    odpoved = input('Zadej číslo: ')\n",
    "    try:\n",
    "        cislo = int(odpoved)\n",
    "    except ValueError:\n",
    "        print('To nebylo číslo! Pokračuji s nulou.')\n",
    "        cislo = 0\n",
    "    return cislo\n",
    "\n",
    "nacti_cislo()"
   ]
  },
  {
   "cell_type": "markdown",
   "metadata": {
    "slideshow": {
     "slide_type": "subslide"
    }
   },
   "source": [
    "### Nechytej je všechny!"
   ]
  },
  {
   "cell_type": "markdown",
   "metadata": {
    "slideshow": {
     "slide_type": "fragment"
    }
   },
   "source": [
    "Příkaz try/except používej jen v situacích, kdy výjimku očekáváš – víš přesně, která chyba může nastat a proč, a máš možnost ji opravit."
   ]
  },
  {
   "cell_type": "code",
   "execution_count": 15,
   "metadata": {
    "slideshow": {
     "slide_type": "subslide"
    }
   },
   "outputs": [
    {
     "name": "stdout",
     "output_type": "stream",
     "text": [
      "Zadej číslo: abc\n",
      "To nebylo číslo! Zkus to znovu.\n",
      "Zadej číslo: 1\n"
     ]
    },
    {
     "data": {
      "text/plain": [
       "1"
      ]
     },
     "execution_count": 15,
     "metadata": {},
     "output_type": "execute_result"
    }
   ],
   "source": [
    "def nacti_cislo():\n",
    "    while True:\n",
    "        odpoved = input('Zadej číslo: ')\n",
    "        try:\n",
    "            return int(odpoved)\n",
    "        except ValueError:\n",
    "            print('To nebylo číslo! Zkus to znovu.')\n",
    "nacti_cislo()"
   ]
  },
  {
   "cell_type": "markdown",
   "metadata": {
    "slideshow": {
     "slide_type": "subslide"
    }
   },
   "source": [
    "### try / except, else, finally"
   ]
  },
  {
   "cell_type": "markdown",
   "metadata": {
    "slideshow": {
     "slide_type": "subslide"
    }
   },
   "source": [
    "### else\n",
    "- Provede se, když v try bloku žádná chyba nenastane.\n",
    "\n",
    "### finally\n",
    "- Provede se vždy – ať už chyba nastala nebo ne."
   ]
  },
  {
   "cell_type": "code",
   "execution_count": 16,
   "metadata": {
    "slideshow": {
     "slide_type": "subslide"
    }
   },
   "outputs": [
    {
     "name": "stdout",
     "output_type": "stream",
     "text": [
      "Tohle se provede, pokud nastane NameError\n",
      "Tohle se provede vždycky; i pokud v `try` bloku byl např. `return`\n"
     ]
    }
   ],
   "source": [
    "try:\n",
    "    neco_udelej()\n",
    "except ValueError:\n",
    "    print('Tohle se provede, pokud nastane ValueError')\n",
    "except NameError:\n",
    "    print('Tohle se provede, pokud nastane NameError')\n",
    "except Exception:\n",
    "    print('Tohle se provede, pokud nastane jiná chyba')\n",
    "    # (kromě SystemExit a KeyboardInterrupt, ty chytat nechceme)\n",
    "except TypeError:\n",
    "    print('Tohle se neprovede nikdy')\n",
    "    # (\"except Exception\" výše ošetřuje i TypeError; sem se Python nedostane)\n",
    "else:\n",
    "    print('Tohle se provede, pokud chyba nenastane')\n",
    "finally:\n",
    "    print('Tohle se provede vždycky; i pokud v `try` bloku byl např. `return`')"
   ]
  },
  {
   "cell_type": "markdown",
   "metadata": {
    "slideshow": {
     "slide_type": "slide"
    }
   },
   "source": [
    "## TESTOVÁNÍ"
   ]
  },
  {
   "cell_type": "markdown",
   "metadata": {
    "slideshow": {
     "slide_type": "fragment"
    }
   },
   "source": [
    "- Instalace knihovny pytest\n",
    "\n",
    "`python -m pip install pytest`"
   ]
  },
  {
   "cell_type": "markdown",
   "metadata": {
    "slideshow": {
     "slide_type": "subslide"
    }
   },
   "source": [
    "### Psaní testů"
   ]
  },
  {
   "cell_type": "markdown",
   "metadata": {
    "slideshow": {
     "slide_type": "fragment"
    }
   },
   "source": [
    "- Pro pytest je důležité, aby jména jak souborů s testy, tak samotných testovacích funkcí, začínala na `test_`.\n",
    "- Vytvoř si soubor `test_secteni.py`, v novém prázdném adresáři.\n",
    "- Do souboru napiš: \n",
    "\n",
    "```python\n",
    "def secti(a, b):\n",
    "    return a + b\n",
    "\n",
    "def test_secti():\n",
    "    assert secti(1, 2) == 3\n",
    "```"
   ]
  },
  {
   "cell_type": "markdown",
   "metadata": {
    "slideshow": {
     "slide_type": "subslide"
    }
   },
   "source": [
    "### Spouštění testů"
   ]
  },
  {
   "cell_type": "markdown",
   "metadata": {
    "slideshow": {
     "slide_type": "fragment"
    }
   },
   "source": [
    "`python -m pytest -v test_secteni.py`"
   ]
  },
  {
   "cell_type": "markdown",
   "metadata": {
    "slideshow": {
     "slide_type": "subslide"
    }
   },
   "source": [
    "### Testovací moduly"
   ]
  },
  {
   "cell_type": "markdown",
   "metadata": {
    "slideshow": {
     "slide_type": "subslide"
    }
   },
   "source": [
    "- Testy se většinou nepíšou přímo ke kódu, ale do souboru vedle. \n",
    "\n",
    "- Je to přehlednější a zjednodušuje to  distribuci někomu, kdo chce kód jen spustit."
   ]
  },
  {
   "cell_type": "markdown",
   "metadata": {
    "slideshow": {
     "slide_type": "subslide"
    }
   },
   "source": [
    "### Úkol\n",
    "\n",
    "- Rozděl soubor s testem sečítání: \n",
    "- funkci `secti` přesuň do modulu `secteni.py`, a v `test_secteni.py` nech jenom test. \n",
    "- Do `test_secteni.py` pak na začátek přidej `from secteni import secti`, aby byla funkce testu k dispozici."
   ]
  },
  {
   "cell_type": "markdown",
   "metadata": {
    "slideshow": {
     "slide_type": "subslide"
    }
   },
   "source": [
    "### Spouštěcí moduly"
   ]
  },
  {
   "cell_type": "markdown",
   "metadata": {
    "slideshow": {
     "slide_type": "subslide"
    }
   },
   "source": [
    "- Automatické testy musí projít „bez dozoru“. \n",
    "- Funkce input v testech nemůže být."
   ]
  },
  {
   "cell_type": "code",
   "execution_count": null,
   "metadata": {
    "scrolled": true,
    "slideshow": {
     "slide_type": "subslide"
    }
   },
   "outputs": [],
   "source": [
    "import random  # (příp. import jiných věci, které budou potřeba)\n",
    "\n",
    "def tah(pole, cislo_policka, symbol):\n",
    "    \"\"\"Vrátí pole s daným symbolem umístěným na danou pozici\"\"\"\n",
    "    pass\n",
    "\n",
    "def tah_hrace(pole):\n",
    "    \"\"\"Zeptá se hráče kam chce hrát a vrátí pole se zaznamenaným tahem\"\"\"\n",
    "    ...\n",
    "    input('Kam chceš hrát? ')\n",
    "    pass\n",
    "\n",
    "def piskvorky1d():\n",
    "    \"\"\"Spustí hru\n",
    "\n",
    "    Vytvoří hrací pole a střídavě volá tah_hrace a tah_pocitace\n",
    "    dokud někdo nevyhraje\"\"\"\n",
    "    while ...:\n",
    "        ...\n",
    "        tah_hrace(...)\n",
    "        pass\n",
    "\n",
    "# Puštění hry!\n",
    "piskvorky1d()"
   ]
  },
  {
   "cell_type": "markdown",
   "metadata": {
    "slideshow": {
     "slide_type": "subslide"
    }
   },
   "source": [
    "- Volání funkce piskvorky1d je vedlejší efekt, a je potřeba ho odstranit.\n",
    "- Můžeš na to vytvořit nový modul např. `hra.py`, kde proběhne volání.\n",
    "- Nebo lepší varianta `if __main__ == '__name__'` statement na konci souboru.\n",
    "\n",
    "```python\n",
    "\n",
    "if __main__ == '__name__':\n",
    "    piskvorky1d()\n",
    "```"
   ]
  },
  {
   "cell_type": "code",
   "execution_count": null,
   "metadata": {
    "slideshow": {
     "slide_type": "subslide"
    }
   },
   "outputs": [],
   "source": [
    "import piskvorky\n",
    "\n",
    "def test_tah_na_prazdne_pole():\n",
    "    pole = piskvorky.tah_pocitace('--------------------')\n",
    "    assert len(pole) == 20\n",
    "    assert pole.count('x') == 1\n",
    "    assert pole.count('-') == 19"
   ]
  },
  {
   "cell_type": "markdown",
   "metadata": {
    "slideshow": {
     "slide_type": "subslide"
    }
   },
   "source": [
    "### Pozitivní a negativní testy"
   ]
  },
  {
   "cell_type": "markdown",
   "metadata": {
    "slideshow": {
     "slide_type": "fragment"
    }
   },
   "source": [
    "- Testům, které kontrolují že se program za správných podmínek chová správně, se říká pozitivní testy.\n",
    "- Testy, které kontrolují reakci na „špatný“ vstup, se jmenují negativní testy."
   ]
  },
  {
   "cell_type": "markdown",
   "metadata": {
    "slideshow": {
     "slide_type": "subslide"
    }
   },
   "source": [
    "- Například funkce tah_pocitace by měla způsobit chybu (třeba ValueError), když je herní pole už plné."
   ]
  },
  {
   "cell_type": "code",
   "execution_count": null,
   "metadata": {
    "slideshow": {
     "slide_type": "fragment"
    }
   },
   "outputs": [],
   "source": [
    "import pytest\n",
    "\n",
    "import piskvorky\n",
    "\n",
    "def test_tah_chyba():\n",
    "    with pytest.raises(ValueError):\n",
    "        piskvorky.tah_pocitace('oxoxoxoxoxoxoxoxoxox')\n"
   ]
  },
  {
   "cell_type": "markdown",
   "metadata": {
    "slideshow": {
     "slide_type": "slide"
    }
   },
   "source": [
    "## CODE STYLE\n"
   ]
  },
  {
   "cell_type": "markdown",
   "source": [
    "## DEBUGOVÁNÍ"
   ],
   "metadata": {
    "collapsed": false
   }
  }
 ],
 "metadata": {
  "celltoolbar": "Slideshow",
  "kernelspec": {
   "display_name": "Python 3",
   "language": "python",
   "name": "python3"
  },
  "language_info": {
   "codemirror_mode": {
    "name": "ipython",
    "version": 3
   },
   "file_extension": ".py",
   "mimetype": "text/x-python",
   "name": "python",
   "nbconvert_exporter": "python",
   "pygments_lexer": "ipython3",
   "version": "3.7.3"
  },
  "rise": {
   "scroll": true
  }
 },
 "nbformat": 4,
 "nbformat_minor": 2
}